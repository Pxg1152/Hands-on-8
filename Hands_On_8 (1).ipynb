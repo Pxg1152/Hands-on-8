{
 "cells": [
  {
   "cell_type": "markdown",
   "metadata": {
    "id": "r7mPFx7l34u8"
   },
   "source": [
    "Leverage your implementation of quicksort to implement the ith order statistic"
   ]
  },
  {
   "cell_type": "code",
   "execution_count": 7,
   "metadata": {
    "colab": {
     "base_uri": "https://localhost:8080/"
    },
    "id": "QAdprwzc2NwS",
    "outputId": "5081e7b3-f577-4397-e19d-0f3f29cadff4"
   },
   "outputs": [
    {
     "name": "stdout",
     "output_type": "stream",
     "text": [
      "Sorted array: [3, 4, 5, 7, 12, 19, 26]\n",
      "3rd order statistic is: 5\n"
     ]
    }
   ],
   "source": [
    "def partition(arr, low, high):\n",
    "    pivot = arr[high]\n",
    "    i = low - 1\n",
    "    for j in range(low, high):\n",
    "        if arr[j] <= pivot:\n",
    "            i += 1\n",
    "            arr[i], arr[j] = arr[j], arr[i]\n",
    "    arr[i+1], arr[high] = arr[high], arr[i+1]\n",
    "    return i + 1\n",
    "\n",
    "def quicksort(arr, low, high):\n",
    "    if low < high:\n",
    "        pi = partition(arr, low, high)\n",
    "        quicksort(arr, low, pi - 1)\n",
    "        quicksort(arr, pi + 1, high)\n",
    "\n",
    "def ith_order_statistic(arr, low, high, i):\n",
    "    if low == high:\n",
    "        return arr[low]\n",
    "    pi = partition(arr, low, high)\n",
    "    k = pi - low + 1\n",
    "    if i == k:\n",
    "        return arr[pi]\n",
    "    elif i < k:\n",
    "        return ith_order_statistic(arr, low, pi - 1, i)\n",
    "    else:\n",
    "        return ith_order_statistic(arr, pi + 1, high, i - k)\n",
    "\n",
    "# Example\n",
    "arr = [12, 3, 5, 7, 4, 19, 26]\n",
    "quicksort(arr, 0, len(arr) - 1)\n",
    "print(\"Sorted array:\", arr)\n",
    "i = 3\n",
    "print(f\"{i}rd order statistic is:\", ith_order_statistic(arr, 0, len(arr) - 1, i))\n"
   ]
  },
  {
   "cell_type": "markdown",
   "metadata": {
    "id": "Pn0dSLCX4RuV"
   },
   "source": [
    "Stack Implementation"
   ]
  },
  {
   "cell_type": "code",
   "execution_count": null,
   "metadata": {
    "colab": {
     "base_uri": "https://localhost:8080/"
    },
    "id": "ZAlj9YI_4Twz",
    "outputId": "591bcfb6-c2af-418d-9254-2c311032d181"
   },
   "outputs": [
    {
     "name": "stdout",
     "output_type": "stream",
     "text": [
      "Stack overflow\n",
      "Popped element: 5\n",
      "Top element: 4\n",
      "4\n",
      "3\n",
      "2\n",
      "1\n"
     ]
    }
   ],
   "source": [
    "class Stack:\n",
    "    def __init__(self, capacity):\n",
    "        self.capacity = capacity\n",
    "        self.size = 0\n",
    "        self.stack = [0] * capacity\n",
    "\n",
    "    def is_empty(self):\n",
    "        return self.size == 0\n",
    "\n",
    "    def is_full(self):\n",
    "        return self.size == self.capacity\n",
    "\n",
    "    def push(self, value):\n",
    "        if self.is_full():\n",
    "            print(\"Stack overflow\")\n",
    "            return\n",
    "        self.stack[self.size] = value\n",
    "        self.size += 1\n",
    "\n",
    "    def pop(self):\n",
    "        if self.is_empty():\n",
    "            print(\"Stack underflow\")\n",
    "            return None\n",
    "        self.size -= 1\n",
    "        return self.stack[self.size]\n",
    "\n",
    "    def peek(self):\n",
    "        if self.is_empty():\n",
    "            print(\"Stack is empty\")\n",
    "            return None\n",
    "        return self.stack[self.size - 1]\n",
    "\n",
    "    def display(self):\n",
    "        if self.is_empty():\n",
    "            print(\"Stack is empty\")\n",
    "            return\n",
    "        for i in range(self.size - 1, -1, -1):\n",
    "            print(self.stack[i])\n",
    "\n",
    "# Example usage:\n",
    "stack = Stack(5)\n",
    "stack.push(1)\n",
    "stack.push(2)\n",
    "stack.push(3)\n",
    "stack.push(4)\n",
    "stack.push(5)\n",
    "stack.push(6)\n",
    "print(\"Popped element:\", stack.pop())\n",
    "print(\"Top element:\", stack.peek())\n",
    "stack.display()\n"
   ]
  },
  {
   "cell_type": "markdown",
   "metadata": {
    "id": "4SFQN0us4i1-"
   },
   "source": [
    "Queue Implementation"
   ]
  },
  {
   "cell_type": "code",
   "execution_count": null,
   "metadata": {
    "colab": {
     "base_uri": "https://localhost:8080/"
    },
    "id": "hVggAMjA47ih",
    "outputId": "d6ec93bd-c42f-4471-80dc-d804d3d7e6a0"
   },
   "outputs": [
    {
     "name": "stdout",
     "output_type": "stream",
     "text": [
      "Queue overflow\n",
      "Dequeued element: 1\n",
      "Front element: 2\n",
      "2\n",
      "3\n",
      "4\n",
      "5\n"
     ]
    }
   ],
   "source": [
    "class Queue:\n",
    "    def __init__(self, capacity):\n",
    "        self.capacity = capacity\n",
    "        self.size = 0\n",
    "        self.front = 0\n",
    "        self.rear = -1\n",
    "        self.queue = [0] * capacity\n",
    "\n",
    "    def is_empty(self):\n",
    "        return self.size == 0\n",
    "\n",
    "    def is_full(self):\n",
    "        return self.size == self.capacity\n",
    "\n",
    "    def enqueue(self, value):\n",
    "        if self.is_full():\n",
    "            print(\"Queue overflow\")\n",
    "            return\n",
    "        self.rear = (self.rear + 1) % self.capacity\n",
    "        self.queue[self.rear] = value\n",
    "        self.size += 1\n",
    "\n",
    "    def dequeue(self):\n",
    "        if self.is_empty():\n",
    "            print(\"Queue underflow\")\n",
    "            return None\n",
    "        value = self.queue[self.front]\n",
    "        self.front = (self.front + 1) % self.capacity\n",
    "        self.size -= 1\n",
    "        return value\n",
    "\n",
    "    def front_element(self):\n",
    "        if self.is_empty():\n",
    "            print(\"Queue is empty\")\n",
    "            return None\n",
    "        return self.queue[self.front]\n",
    "\n",
    "    def display(self):\n",
    "        if self.is_empty():\n",
    "            print(\"Queue is empty\")\n",
    "            return\n",
    "        idx = self.front\n",
    "        for _ in range(self.size):\n",
    "            print(self.queue[idx])\n",
    "            idx = (idx + 1) % self.capacity\n",
    "\n",
    "# Example usage:\n",
    "queue = Queue(5)\n",
    "queue.enqueue(1)\n",
    "queue.enqueue(2)\n",
    "queue.enqueue(3)\n",
    "queue.enqueue(4)\n",
    "queue.enqueue(5)\n",
    "queue.enqueue(6)\n",
    "print(\"Dequeued element:\", queue.dequeue())\n",
    "print(\"Front element:\", queue.front_element())\n",
    "queue.display()\n"
   ]
  },
  {
   "cell_type": "markdown",
   "metadata": {
    "id": "ZI9T62Wb5B5b"
   },
   "source": [
    "Singly Linked List Implementation"
   ]
  },
  {
   "cell_type": "code",
   "execution_count": null,
   "metadata": {
    "colab": {
     "background_save": true,
     "base_uri": "https://localhost:8080/"
    },
    "id": "3yUgelil5Kdp",
    "outputId": "8a089c0e-963c-4cad-b8e1-5a4a084cff83"
   },
   "outputs": [
    {
     "name": "stdout",
     "output_type": "stream",
     "text": [
      "Deleted element: 5\n",
      "4\n",
      "3\n",
      "2\n",
      "1\n"
     ]
    }
   ],
   "source": [
    "class Node:\n",
    "    def __init__(self, data):\n",
    "        self.data = data\n",
    "        self.next = None\n",
    "\n",
    "class LinkedList:\n",
    "    def __init__(self):\n",
    "        self.head = None\n",
    "\n",
    "    def is_empty(self):\n",
    "        return self.head is None\n",
    "\n",
    "    def insert_at_beginning(self, data):\n",
    "        new_node = Node(data)\n",
    "        new_node.next = self.head\n",
    "        self.head = new_node\n",
    "\n",
    "    def delete_from_beginning(self):\n",
    "        if self.is_empty():\n",
    "            print(\"List is empty\")\n",
    "            return None\n",
    "        data = self.head.data\n",
    "        self.head = self.head.next\n",
    "        return data\n",
    "\n",
    "    def display(self):\n",
    "        if self.is_empty():\n",
    "            print(\"List is empty\")\n",
    "            return\n",
    "        current = self.head\n",
    "        while current:\n",
    "            print(current.data)\n",
    "            current = current.next\n",
    "\n",
    "# Example usage:\n",
    "linked_list = LinkedList()\n",
    "linked_list.insert_at_beginning(1)\n",
    "linked_list.insert_at_beginning(2)\n",
    "linked_list.insert_at_beginning(3)\n",
    "linked_list.insert_at_beginning(4)\n",
    "linked_list.insert_at_beginning(5)\n",
    "print(\"Deleted element:\", linked_list.delete_from_beginning())\n",
    "linked_list.display()\n"
   ]
  }
 ],
 "metadata": {
  "colab": {
   "provenance": []
  },
  "kernelspec": {
   "display_name": "Python 3 (ipykernel)",
   "language": "python",
   "name": "python3"
  },
  "language_info": {
   "codemirror_mode": {
    "name": "ipython",
    "version": 3
   },
   "file_extension": ".py",
   "mimetype": "text/x-python",
   "name": "python",
   "nbconvert_exporter": "python",
   "pygments_lexer": "ipython3",
   "version": "3.12.1"
  }
 },
 "nbformat": 4,
 "nbformat_minor": 4
}
